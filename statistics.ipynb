{
 "cells": [
  {
   "cell_type": "markdown",
   "metadata": {},
   "source": [
    "# statistics\n",
    "Модуль statistics содержит функции для осуществления статистических операций. Как правило, все функции поддерживают целые и вещественные типы."
   ]
  },
  {
   "cell_type": "markdown",
   "metadata": {},
   "source": [
    "## Показатели центра распределения"
   ]
  },
  {
   "cell_type": "markdown",
   "metadata": {},
   "source": [
    "### statistics.mean(data) \n",
    "Возвращает среднее арифметическое элементов data (последовательности или итерируемого объекта)."
   ]
  },
  {
   "cell_type": "code",
   "execution_count": 7,
   "metadata": {},
   "outputs": [
    {
     "data": {
      "text/plain": [
       "3.5"
      ]
     },
     "execution_count": 7,
     "metadata": {},
     "output_type": "execute_result"
    }
   ],
   "source": [
    "import statistics\n",
    "data = [1, 1, 8, 4]\n",
    "\n",
    "statistics.mean(data)"
   ]
  },
  {
   "cell_type": "markdown",
   "metadata": {},
   "source": [
    "### statistics.median(data)\n",
    "\n",
    "Возвращает медиану последовательности data."
   ]
  },
  {
   "cell_type": "code",
   "execution_count": 18,
   "metadata": {},
   "outputs": [
    {
     "data": {
      "text/plain": [
       "2.0"
      ]
     },
     "execution_count": 18,
     "metadata": {},
     "output_type": "execute_result"
    }
   ],
   "source": [
    "import statistics\n",
    "data = [1, 1, 3, 4]\n",
    "\n",
    "statistics.median(data)"
   ]
  },
  {
   "cell_type": "markdown",
   "metadata": {},
   "source": [
    "### statistics.mode(data)\n",
    "Возвращает моду последовательности data.\n",
    "Если len(data) == 0 или все элементы data уникальны, возбуждается исключение StatisticsError."
   ]
  },
  {
   "cell_type": "code",
   "execution_count": 20,
   "metadata": {},
   "outputs": [
    {
     "data": {
      "text/plain": [
       "1"
      ]
     },
     "execution_count": 20,
     "metadata": {},
     "output_type": "execute_result"
    }
   ],
   "source": [
    "import statistics\n",
    "data = [1, 1, 3, 4, 1]\n",
    "\n",
    "statistics.mode(data)"
   ]
  },
  {
   "cell_type": "markdown",
   "metadata": {},
   "source": [
    "## Показатели разброса"
   ]
  },
  {
   "cell_type": "markdown",
   "metadata": {},
   "source": [
    "#### statistics.variance(data, xbar=None) statistics.pvariance(data, mu=None)\n",
    "\n",
    "Возвращает дисперсию для выборки или генеральной совокупности соответственно.\n",
    "\n",
    "Последовательность data должна содержать по крайней мере 2 значения, иначе возбуждается исключение StatisticsError. xbar и mu - средние значения, если равны None, вычисляются автоматически.\n"
   ]
  },
  {
   "cell_type": "code",
   "execution_count": 22,
   "metadata": {},
   "outputs": [
    {
     "name": "stdout",
     "output_type": "stream",
     "text": [
      "variance - 2\n",
      "pvariance - 1.6\n"
     ]
    }
   ],
   "source": [
    "import statistics\n",
    "data = [1, 1, 3, 4, 1]\n",
    "\n",
    "print(\"variance -\", statistics.variance(data, xbar=None))\n",
    "print(\"pvariance -\",statistics.pvariance(data, mu=None))"
   ]
  },
  {
   "cell_type": "markdown",
   "metadata": {},
   "source": [
    "### statistics.stdev(data, xbar=None) statistics.pstdev(data, mu=None)\n",
    "Возвращает стандартное отклонение (квадратный корень из дисперсии) для выборки или генеральной совокупности соответственно.\n",
    "\n",
    "Последовательность data должна содержать по крайней мере 2 значения, иначе возбуждается исключение StatisticsError. xbar и mu - средние значения, если равны None, вычисляются автоматически."
   ]
  },
  {
   "cell_type": "code",
   "execution_count": 23,
   "metadata": {},
   "outputs": [
    {
     "name": "stdout",
     "output_type": "stream",
     "text": [
      "1.4142135623730951\n",
      "1.2649110640673518\n"
     ]
    }
   ],
   "source": [
    "import statistics\n",
    "data = [1, 1, 3, 4, 1]\n",
    "\n",
    "print(statistics.stdev(data, xbar=None))\n",
    "print(statistics.pstdev(data, mu=None))"
   ]
  },
  {
   "cell_type": "markdown",
   "metadata": {},
   "source": [
    "# задание\n",
    "Проанализировать оценки в брс за четвертый семместр:\n",
    "\n",
    "Какой средний балл по всем предметам? \n",
    "Каких оценок больше?\n",
    "Чему равна медиана оценок за все предметы?\n",
    "Чему равна медиана оценок за ин.яз?"
   ]
  }
 ],
 "metadata": {
  "kernelspec": {
   "display_name": "Python 3",
   "language": "python",
   "name": "python3"
  },
  "language_info": {
   "codemirror_mode": {
    "name": "ipython",
    "version": 3
   },
   "file_extension": ".py",
   "mimetype": "text/x-python",
   "name": "python",
   "nbconvert_exporter": "python",
   "pygments_lexer": "ipython3",
   "version": "3.8.3"
  }
 },
 "nbformat": 4,
 "nbformat_minor": 4
}
