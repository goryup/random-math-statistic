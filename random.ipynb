{
 "cells": [
  {
   "cell_type": "markdown",
   "metadata": {},
   "source": [
    "# random\n",
    "Модуль random предоставляет функции для генерации случайных чисел, букв, случайного выбора элементов последовательности."
   ]
  },
  {
   "cell_type": "code",
   "execution_count": 1,
   "metadata": {},
   "outputs": [
    {
     "name": "stdout",
     "output_type": "stream",
     "text": [
      "Вывод случайного числа при помощи использования random.random()\n",
      "0.12251839005497778\n"
     ]
    }
   ],
   "source": [
    "import random\n",
    " \n",
    " \n",
    "print(\"Вывод случайного числа при помощи использования random.random()\")\n",
    "print(random.random())"
   ]
  },
  {
   "cell_type": "markdown",
   "metadata": {},
   "source": [
    "- random() является базовой функцией модуля random;\n",
    "- Почти все функции модуля random зависят от базовой функции random();\n",
    "- random() возвращает следующее случайное число с плавающей запятой в промежутке [0.0, 1.0]."
   ]
  },
  {
   "cell_type": "markdown",
   "metadata": {},
   "source": [
    "### Генерация случайных чисел\n",
    "Для генерации случайных целых чисел можно использовать следующие две функции:\n",
    "\n",
    "- randint()\n",
    "- randrange()"
   ]
  },
  {
   "cell_type": "code",
   "execution_count": 3,
   "metadata": {},
   "outputs": [
    {
     "name": "stdout",
     "output_type": "stream",
     "text": [
      "Вывод случайного целого числа  4\n",
      "Вывод случайного целого числа  8\n"
     ]
    }
   ],
   "source": [
    "from random import randint\n",
    "from random import randrange\n",
    " \n",
    " \n",
    "print(\"Вывод случайного целого числа \", randint(0, 9))\n",
    "print(\"Вывод случайного целого числа \", randrange(0, 10, 2))"
   ]
  },
  {
   "cell_type": "markdown",
   "metadata": {},
   "source": [
    "### Выбор случайного элемента из списка Python\n",
    "\n",
    "Метод random.choice() используется для выбора случайного элемента из списка. Набор может быть представлен в виде списка или python строки. Метод возвращает один случайный элемент последовательности.\n",
    "\n",
    "Есть список городов, и вы желаете случайным образом выбрать место, где вы встретите НГ."
   ]
  },
  {
   "cell_type": "code",
   "execution_count": 4,
   "metadata": {},
   "outputs": [
    {
     "name": "stdout",
     "output_type": "stream",
     "text": [
      "Выбор случайного города из списка -  Уфа\n"
     ]
    }
   ],
   "source": [
    "city_list = ['Омск', 'Уфа', 'Спб', 'Краснодар', 'Сургут']\n",
    "print(\"Выбор случайного города из списка - \", random.choice(city_list))"
   ]
  },
  {
   "cell_type": "markdown",
   "metadata": {},
   "source": [
    "### Python функции модуля random\n",
    "\n",
    "Случайное целое число — randint(a, b) \n",
    "Возвращает случайное целое число Number, такое что a <= Number <= b;\n",
    "\n",
    "- randint(a,b) работает только с целыми числами;\n",
    "- Функция randint(a,b) принимает только два параметра, оба обязательны;\n",
    "- Полученное в результате случайно число больше или равно a, а также меньше или равно b."
   ]
  },
  {
   "cell_type": "code",
   "execution_count": 5,
   "metadata": {},
   "outputs": [
    {
     "name": "stdout",
     "output_type": "stream",
     "text": [
      "Использование random.randint() для генерации случайного целого числа\n",
      "2\n",
      "7\n"
     ]
    }
   ],
   "source": [
    "print(\"Использование random.randint() для генерации случайного целого числа\")\n",
    "print(random.randint(0, 5))\n",
    "print(random.randint(5, 9))"
   ]
  },
  {
   "cell_type": "markdown",
   "metadata": {},
   "source": [
    "### Генерация случайного целого числа — randrange()\n",
    "\n",
    "Метод random.randrange() используется для генерации случайного целого числа в пределах заданного промежутка.\n",
    "\n",
    "Шаг показывает разницу между каждым числом заданной последовательности. Шаг по умолчанию равен 1, однако его значение можно изменить."
   ]
  },
  {
   "cell_type": "code",
   "execution_count": 4,
   "metadata": {},
   "outputs": [
    {
     "name": "stdout",
     "output_type": "stream",
     "text": [
      "Генерация случайного числа в пределах заданного промежутка\n",
      "17\n",
      "17\n"
     ]
    }
   ],
   "source": [
    "import random\n",
    "\n",
    "print(\"Генерация случайного числа в пределах заданного промежутка\")\n",
    "print(random.randrange(10, 40, 7))\n",
    "print(random.randrange(10, 40, 7))"
   ]
  },
  {
   "cell_type": "markdown",
   "metadata": {},
   "source": [
    "### Метод sample(population, k) \n",
    "Метод random.sample() используется, когда требуется выбрать несколько элементов из заданной последовательности population.\n",
    "\n",
    "- Метод sample() возвращает список уникальных элементов, которые были выбраны из последовательности population. Итоговое количество элементов зависит от значения k;\n",
    "- Значение в population может быть представлено в виде списка или любой другой последовательности.\n"
   ]
  },
  {
   "cell_type": "code",
   "execution_count": 5,
   "metadata": {},
   "outputs": [
    {
     "name": "stdout",
     "output_type": "stream",
     "text": [
      "random.sample()  [1, 3, 9]\n"
     ]
    }
   ],
   "source": [
    "import random\n",
    " \n",
    " \n",
    "s_list = [3, 1, 4, 15, 9]\n",
    "print (\"random.sample() \", random.sample(s_list,3))\n"
   ]
  },
  {
   "cell_type": "markdown",
   "metadata": {},
   "source": [
    "### Случайные элементы из списка — choices() \n",
    "\n",
    "- random.choices(population, weights=None, *, cum_weights=None, k=1)\n",
    "- Метод random.choices() используется, когда требуется выбрать несколько случайных элементов из заданной последовательности.\n",
    "- Метод choices() был введен в версии Python 3.6. Он также позволяет повторять несколько раз один и тот же элемент.\n"
   ]
  },
  {
   "cell_type": "code",
   "execution_count": 6,
   "metadata": {},
   "outputs": [
    {
     "name": "stdout",
     "output_type": "stream",
     "text": [
      "Выборка с методом choices  [60, 20, 30, 60, 20]\n"
     ]
    }
   ],
   "source": [
    "import random\n",
    " \n",
    " \n",
    "# Выборка с заменой\n",
    "s_list = [20, 30, 40, 50 ,60, 70, 80, 90]\n",
    "sampling = random.choices(s_list, k=5)\n",
    " \n",
    "print(\"Выборка с методом choices \", sampling)"
   ]
  },
  {
   "cell_type": "markdown",
   "metadata": {},
   "source": [
    "### Генератор псевдослучайных чисел —  seed() \n",
    "- Метод seed() используется для инициализации генератора псевдослучайных чисел в Python;\n",
    "- Модуль random использует значение из seed, или отправной точки как основу для генерации случайного числа. Если значения seed нет в наличии, тогда система будет отталкиваться от текущего времени."
   ]
  },
  {
   "cell_type": "code",
   "execution_count": null,
   "metadata": {},
   "outputs": [],
   "source": [
    "import random\n",
    " \n",
    " \n",
    "random.seed(7)\n",
    "print(\"Случайное число с семенем \",random.random())\n",
    " \n",
    "print(\"Случайное число с семенем \",random.random())"
   ]
  },
  {
   "cell_type": "markdown",
   "metadata": {},
   "source": [
    "### Перемешивание данных — shuffle() \n",
    "Метод random.shuffle() используется для перемешивания данных списка или другой последовательности. Метод shuffle() смешивает элементы списка на месте. Самый показательный пример использования — тасование карт."
   ]
  },
  {
   "cell_type": "code",
   "execution_count": 7,
   "metadata": {},
   "outputs": [
    {
     "name": "stdout",
     "output_type": "stream",
     "text": [
      "Вывод перемешанного списка  [9, 5, 2, 8, 12]\n"
     ]
    }
   ],
   "source": [
    "s_list = [2, 5, 8, 9, 12]\n",
    " \n",
    " \n",
    "random.shuffle(list)\n",
    "print (\"Вывод перемешанного списка \", s_list)"
   ]
  },
  {
   "cell_type": "markdown",
   "metadata": {},
   "source": [
    "### Генерации числа с плавающей запятой\n",
    "\n",
    "- random.uniform() используется для генерации числа с плавающей запятой в пределах заданного промежутка\n",
    "- Значение конечной точки может включаться в диапазон, но это не обязательно. Все зависит от округления значения числа с плавающей запятой;\n",
    "- Метод может, например, сгенерировать случайно вещественное число в промежутке между 10.5 и 25.5."
   ]
  },
  {
   "cell_type": "code",
   "execution_count": 8,
   "metadata": {},
   "outputs": [
    {
     "name": "stdout",
     "output_type": "stream",
     "text": [
      "Число с плавающей точкой в пределах заданного промежутка\n",
      "13.52681172246777\n"
     ]
    }
   ],
   "source": [
    "import random\n",
    " \n",
    " \n",
    "print(\"Число с плавающей точкой в пределах заданного промежутка\")\n",
    "print(random.uniform(10.5, 25.5))"
   ]
  },
  {
   "cell_type": "markdown",
   "metadata": {},
   "source": [
    "### triangular(low, high, mode) \n",
    "Функция random.triangular() возвращает случайное вещественное число N с плавающей запятой, которое соответствует условию lower <= N <= upper, а также уточняющему значению mode.\n",
    "\n",
    "Значение нижнего предела по умолчанию равно нулю, в верхнего — единице. Кроме того, пик аргумента по умолчанию установлен на середине границ, что обеспечивает симметричное распределение.\n",
    "\n",
    "Функция random.triangular() используется в генерации случайных чисел для треугольного распределения с целью использования полученных значений в симуляции. Это значит, что в при генерации значения применяется треугольное распределение вероятности. "
   ]
  },
  {
   "cell_type": "code",
   "execution_count": 9,
   "metadata": {},
   "outputs": [
    {
     "name": "stdout",
     "output_type": "stream",
     "text": [
      "Число с плавающей точкой через triangular\n",
      "10.126068035883105\n",
      "20.28553661215635\n",
      "16.776194862473602\n"
     ]
    }
   ],
   "source": [
    "print(\"Число с плавающей точкой через triangular\")\n",
    "print(random.triangular(10.5, 25.5, 5.5))\n",
    "print(random.triangular(10.5, 25.5, 5.5))\n",
    "print(random.triangular(10.5, 25.5, 5.5))"
   ]
  },
  {
   "cell_type": "markdown",
   "metadata": {},
   "source": [
    "### Numpy.random — Генератор псевдослучайных чисел\n",
    "PRNG является англоязычным акронимом, который расшифровывается как «pseudorandom number generator» — генератор псевдослучайных чисел. Известно, что в Python модуль random можно использовать для генерации случайных скалярных числовых значений и данных.\n",
    "\n",
    "Для генерации массива случайных чисел необходимо использовать numpy.random();\n",
    "В модуле numpy есть пакет numpy.random, который содержит обширный набор функций для генерации случайных n-мерных массивов для различных распределений"
   ]
  },
  {
   "cell_type": "markdown",
   "metadata": {},
   "source": [
    "### Генерация случайного n-мерного массива целых чисел\n",
    "Для генерации случайного n-мерного массива целых чисел используется numpy.random.randint():"
   ]
  },
  {
   "cell_type": "code",
   "execution_count": 1,
   "metadata": {},
   "outputs": [
    {
     "name": "stdout",
     "output_type": "stream",
     "text": [
      "1-мерный массив случайных целых чисел \n",
      " [3 8 1 6 3 8] \n",
      "\n",
      "2-мерный массив случайных целых чисел \n",
      " [[6 7]\n",
      " [4 8]\n",
      " [9 6]]\n"
     ]
    }
   ],
   "source": [
    "import random\n",
    "import numpy\n",
    " \n",
    " \n",
    "random_integer_array = numpy.random.randint(1, 11, 6)\n",
    "print(\"1-мерный массив случайных целых чисел \\n\", random_integer_array,\"\\n\")\n",
    " \n",
    "random_integer_array1 = numpy.random.randint(1, 11, size=(3, 2))\n",
    "print(\"2-мерный массив случайных целых чисел \\n\", random_integer_array1)\n"
   ]
  },
  {
   "cell_type": "markdown",
   "metadata": {},
   "source": [
    "### Выбор случайного элемента из массива чисел или последовательности\n",
    "Использование numpy.random.choice() для генерации случайной выборки;\n",
    "Использование данного метода для получения одного или нескольких случайных чисел из n-мерного массива с заменой или без нее."
   ]
  },
  {
   "cell_type": "code",
   "execution_count": 18,
   "metadata": {},
   "outputs": [
    {
     "name": "stdout",
     "output_type": "stream",
     "text": [
      "один случайный выбор из массива 1-D [40]\n",
      "несколько случайных выборов из массива 1-D без замены [40 10 30]\n",
      "несколько случайных выборов из массива 1-D с заменой [20 10 20]\n"
     ]
    }
   ],
   "source": [
    "import numpy \n",
    " \n",
    " \n",
    "array =[10, 20, 30, 40, 50, 20, 40] \n",
    "single_random_choice = numpy.random.choice(array, size=1) \n",
    "print(\"один случайный выбор из массива 1-D\", single_random_choice) \n",
    " \n",
    "multiple_random_choice = numpy.random.choice(array, size=3, replace=False) \n",
    "print(\"несколько случайных выборов из массива 1-D без замены\", multiple_random_choice) \n",
    " \n",
    "multiple_random_choice = numpy.random.choice(array, size=3, replace=True) \n",
    "print(\"несколько случайных выборов из массива 1-D с заменой\", multiple_random_choice)\n"
   ]
  },
  {
   "cell_type": "markdown",
   "metadata": {},
   "source": [
    "### Генерация случайных универсально уникальных ID\n",
    "Модуль Python UUID предоставляет неизменяемые UUID объекты. UUID является универсально уникальным идентификатором.\n",
    "\n",
    "У модуля есть функции для генерации всех версий UUID. Используя функцию uuid.uuid4(), можно получить случайно сгенерированное уникальное ID длиной в 128 битов, которое к тому же является криптографически надежным.\n",
    "\n",
    "Полученные уникальные ID используются для идентификации документов, пользователей, ресурсов и любой другой информации на компьютерных системах."
   ]
  },
  {
   "cell_type": "code",
   "execution_count": 19,
   "metadata": {},
   "outputs": [
    {
     "name": "stdout",
     "output_type": "stream",
     "text": [
      "безопасный уникальный id  31d18814-50e7-41b5-9c4a-22b03f992446\n"
     ]
    }
   ],
   "source": [
    "import uuid\n",
    " \n",
    "# получить уникальный UUID\n",
    "safeId = uuid.uuid4()\n",
    "print(\"безопасный уникальный id \", safeId)"
   ]
  },
  {
   "cell_type": "markdown",
   "metadata": {},
   "source": [
    "### Список основных функций модуля Random с описанием\n",
    "random.seed([X], version=2) - инициализация генератора случайных чисел. Если X не указан, используется системное время.\n",
    "\n",
    "random.getstate() - внутреннее состояние генератора.\n",
    "\n",
    "random.setstate(state) - восстанавливает внутреннее состояние генератора. Параметр state должен быть получен функцией getstate().\n",
    "\n",
    "random.getrandbits(N) - возвращает N случайных бит.\n",
    "\n",
    "random.randrange(start, stop, step) - возвращает случайно выбранное число из последовательности.\n",
    "\n",
    "random.randint(A, B) - случайное целое число N, A ≤ N ≤ B.\n",
    "\n",
    "random.choice(sequence) - случайный элемент непустой последовательности.\n",
    "\n",
    "random.shuffle(sequence, [rand]) - перемешивает последовательность (изменяется сама последовательность). Поэтому функция не работает для неизменяемых объектов.\n",
    "\n",
    "random.sample(population, k) - список длиной k из последовательности population.\n",
    "\n",
    "random.random() - случайное число от 0 до 1.\n",
    "\n",
    "random.uniform(A, B) - случайное число с плавающей точкой, A ≤ N ≤ B (или B ≤ N ≤ A).\n",
    "\n",
    "random.triangular(low, high, mode) - случайное число с плавающей точкой, low ≤ N ≤ high. Mode - распределение.\n",
    "\n",
    "random.betavariate(alpha, beta) - бета-распределение. alpha>0, beta>0. Возвращает от 0 до 1.\n",
    "\n",
    "random.expovariate(lambd) - экспоненциальное распределение. lambd равен 1/среднее желаемое. Lambd должен быть отличным от нуля. Возвращаемые значения от 0 до плюс бесконечности, если lambd положительно, и от минус бесконечности до 0, если lambd отрицательный.\n",
    "\n",
    "random.gammavariate(alpha, beta) - гамма-распределение. Условия на параметры alpha>0 и beta>0.\n",
    "\n",
    "random.gauss(значение, стандартное отклонение) - распределение Гаусса.\n",
    "\n",
    "random.lognormvariate(mu, sigma) - логарифм нормального распределения. Если взять натуральный логарифм этого распределения, то вы получите нормальное распределение со средним mu и стандартным отклонением sigma. mu может иметь любое значение, и sigma должна быть больше нуля.\n",
    "\n",
    "random.normalvariate(mu, sigma) - нормальное распределение. mu - среднее значение, sigma - стандартное отклонение.\n",
    "\n",
    "random.vonmisesvariate(mu, kappa) - mu - средний угол, выраженный в радианах от 0 до 2π, и kappa - параметр концентрации, который должен быть больше или равен нулю. Если каппа равна нулю, это распределение сводится к случайному углу в диапазоне от 0 до 2π.\n",
    "\n",
    "random.paretovariate(alpha) - распределение Парето.\n",
    "\n",
    "random.weibullvariate(alpha, beta) - распределение Вейбулла."
   ]
  },
  {
   "cell_type": "markdown",
   "metadata": {},
   "source": [
    "# Задача\n",
    "\n",
    "Додо Пицца предалагает:\n",
    "1. Пицца диаметром 25 см за 245 р.\n",
    "2. Пицца диаметром 35 см за 785 р.\n",
    "3. Набор из трёх пицц диаметром 30 см за 999 р.\n",
    "\n",
    "Что выгоднее купить(по соотношению цена за кв.см)?\n",
    "Какие функции модуля math нужно использовать для решения этой задачи?"
   ]
  }
 ],
 "metadata": {
  "kernelspec": {
   "display_name": "Python 3",
   "language": "python",
   "name": "python3"
  },
  "language_info": {
   "codemirror_mode": {
    "name": "ipython",
    "version": 3
   },
   "file_extension": ".py",
   "mimetype": "text/x-python",
   "name": "python",
   "nbconvert_exporter": "python",
   "pygments_lexer": "ipython3",
   "version": "3.8.3"
  }
 },
 "nbformat": 4,
 "nbformat_minor": 4
}
