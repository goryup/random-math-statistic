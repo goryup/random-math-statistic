{
 "cells": [
  {
   "cell_type": "markdown",
   "metadata": {},
   "source": [
    "# math\n",
    "Библиотека Math предоставляет функции и константы, которые можно использовать для выполнения арифметических и тригонометрических операций в Python. Библиотека изначально встроена в Python, поэтому дополнительную установку перед использованием делать не требуется."
   ]
  },
  {
   "cell_type": "markdown",
   "metadata": {},
   "source": [
    "### Специальные константы библиотеки math\n",
    "Число Пи, число Эйлера"
   ]
  },
  {
   "cell_type": "code",
   "execution_count": 17,
   "metadata": {},
   "outputs": [
    {
     "data": {
      "text/plain": [
       "3.141592653589793"
      ]
     },
     "execution_count": 17,
     "metadata": {},
     "output_type": "execute_result"
    }
   ],
   "source": [
    "import math\n",
    "math.pi "
   ]
  },
  {
   "cell_type": "code",
   "execution_count": 18,
   "metadata": {},
   "outputs": [
    {
     "data": {
      "text/plain": [
       "2.718281828459045"
      ]
     },
     "execution_count": 18,
     "metadata": {},
     "output_type": "execute_result"
    }
   ],
   "source": [
    "math.e"
   ]
  },
  {
   "cell_type": "markdown",
   "metadata": {},
   "source": [
    "### Функция экспоненты exp()\n",
    "Библиотека Math в Python поставляется с функцией exp(), которую можно использовать для вычисления значения е. "
   ]
  },
  {
   "cell_type": "code",
   "execution_count": 19,
   "metadata": {},
   "outputs": [
    {
     "name": "stdout",
     "output_type": "stream",
     "text": [
      "403.4287934927351\n",
      "0.00033546262790251185\n",
      "7.38905609893065\n"
     ]
    }
   ],
   "source": [
    "an_int = 6\n",
    "a_neg_int = -8\n",
    "a_float = 2.00\n",
    " \n",
    "# Передача значений методу exp() и вывод\n",
    "print(math.exp(an_int))\n",
    "print(math.exp(a_neg_int))\n",
    "print(math.exp(a_float))"
   ]
  },
  {
   "cell_type": "markdown",
   "metadata": {},
   "source": [
    "### Функция логарифма log()\n",
    "Функция log() возвращает логарифм определенного числа. Натуральный логарифм вычисляется относительно основания е. В следующем примере показано использование функции логарифма:"
   ]
  },
  {
   "cell_type": "code",
   "execution_count": 20,
   "metadata": {},
   "outputs": [
    {
     "name": "stdout",
     "output_type": "stream",
     "text": [
      "math.log(10.43): 2.344686269012681\n",
      "math.log(20): 2.995732273553991\n",
      "math.log(math.pi): 1.1447298858494002\n"
     ]
    }
   ],
   "source": [
    "print(\"math.log(10.43):\", math.log(10.43))\n",
    "print(\"math.log(20):\", math.log(20))\n",
    "print(\"math.log(math.pi):\", math.log(math.pi))"
   ]
  },
  {
   "cell_type": "markdown",
   "metadata": {},
   "source": [
    "### Функция log10() | Функция log2()\n",
    "Метод log10() возвращает логарифм по основанию 10 определенного числа.\n",
    "Функция log2() возвращает логарифм определенного числа по основанию 2. К примеру:"
   ]
  },
  {
   "cell_type": "code",
   "execution_count": 21,
   "metadata": {},
   "outputs": [
    {
     "name": "stdout",
     "output_type": "stream",
     "text": [
      "log10 числа 100 равен: 2.0\n",
      "log2 числа 16 равен: 4.0\n"
     ]
    }
   ],
   "source": [
    "print(\"log10 числа 100 равен:\", math.log10(100))\n",
    "print(\"log2 числа 16 равен:\", math.log2(16))"
   ]
  },
  {
   "cell_type": "markdown",
   "metadata": {},
   "source": [
    "### Функция log(x, y)\n",
    "Функция log(x, y) возвращает логарифм числа х по основанию y."
   ]
  },
  {
   "cell_type": "code",
   "execution_count": 22,
   "metadata": {},
   "outputs": [
    {
     "name": "stdout",
     "output_type": "stream",
     "text": [
      "Логарифм 25 по основанию 5 равен: 2.0\n"
     ]
    }
   ],
   "source": [
    "print(\"Логарифм 25 по основанию 5 равен:\", math.log(25, 5))"
   ]
  },
  {
   "cell_type": "markdown",
   "metadata": {},
   "source": [
    "### Функция log1p(x)\n",
    "Функция log1p(x) рассчитывает логарифм(1+x), как представлено ниже:"
   ]
  },
  {
   "cell_type": "code",
   "execution_count": 23,
   "metadata": {},
   "outputs": [
    {
     "name": "stdout",
     "output_type": "stream",
     "text": [
      "Значение логарифма(1+x) от 10 равно: 2.3978952727983707\n"
     ]
    }
   ],
   "source": [
    "print(\"Значение логарифма(1+x) от 10 равно:\", math.log1p(10))"
   ]
  },
  {
   "cell_type": "markdown",
   "metadata": {},
   "source": [
    "### Арифметические функции\n",
    "Aрифметические функции используются для представления чисел в различных формах и осуществления над ними математических операций. Далее представлен перечень самых популярных арифметических функций:\n",
    "\n",
    "- ceil(): округление определенного числа вверх;\n",
    "- fabs(): возвращает модуль (абсолютное значение) указанного числа;\n",
    "- floor(): округление определенного числа вниз;\n",
    "- gcd(a, b): получение наибольшего общего делителя чисел a и b;\n",
    "- fsum(iterable): возвращает сумму всех элементов итерируемого объекта;\n",
    "- expm1(): возвращает (e^x)-1;\n",
    "- exp(x)-1: когда значение x слишком мало, вычисление exp(x)-1 может привести к значительной потери в точности. expm1(x) может вернуть вывод с полной точностью.\n",
    "\n",
    "В следующем примере показано использование перечисленных выше функций:"
   ]
  },
  {
   "cell_type": "code",
   "execution_count": 24,
   "metadata": {},
   "outputs": [
    {
     "name": "stdout",
     "output_type": "stream",
     "text": [
      "Число: -4.28\n",
      "Округление числа вниз: -5\n",
      "Округление числа вверх: -4\n",
      "Модуль числа: 4.28\n",
      "Наибольший общий делитель a и b: 2\n",
      "Сумма элементов списка: 16.029999999999998\n",
      "e^x (при использовании функции exp()) равно: 0.0001000050001667141\n",
      "e^x (при использовании функции expml()) равно: 0.00010000500016667084\n"
     ]
    }
   ],
   "source": [
    "num = -4.28\n",
    "a = 14\n",
    "b = 8\n",
    " \n",
    "num_list = [10, 8.25, 75, 7.04, -86.23, -6.43, 8.4]\n",
    "x = 1e-4 # Малое значение x\n",
    " \n",
    "print('Число:', num)\n",
    "print('Округление числа вниз:', math.floor(num))\n",
    "print('Округление числа вверх:', math.ceil(num))\n",
    "print('Модуль числа:', math.fabs(num))\n",
    "print('Наибольший общий делитель a и b: ' + str(math.gcd(a, b)))\n",
    "print('Сумма элементов списка: ' + str(math.fsum(num_list)))\n",
    "print('e^x (при использовании функции exp()) равно:', math.exp(x)-1)\n",
    "print('e^x (при использовании функции expml()) равно:', math.expm1(x))\n"
   ]
  },
  {
   "cell_type": "markdown",
   "metadata": {},
   "source": [
    "K числу других математических функций относятся:\n",
    "\n",
    "- pow(): принимает два вещественных аргумента, возводит первый аргумент в степень, значением которой является второй аргумент, после чего возвращает результат. К примеру, pow(2, 2) эквивалентно выражению 2 ** 2;\n",
    "- sqrt(): возвращает квадратный корень определенного числа."
   ]
  },
  {
   "cell_type": "code",
   "execution_count": 25,
   "metadata": {},
   "outputs": [
    {
     "name": "stdout",
     "output_type": "stream",
     "text": [
      "math.pow(3, 4) -  81.0\n",
      "math.sqrt(81) - 9.0\n"
     ]
    }
   ],
   "source": [
    "print(\"math.pow(3, 4) - \",math.pow(3, 4))\n",
    "\n",
    "print(\"math.sqrt(81) -\",math.sqrt(81))"
   ]
  },
  {
   "cell_type": "markdown",
   "metadata": {},
   "source": [
    "### Тригонометрические функции в Python\n",
    "Модуль math в Python поддерживает все тригонометрические функции. Самые популярные представлены ниже:\n",
    "\n",
    "- sin(a): Возвращает синус \"а\" в радианах;\n",
    "- cos(a): Возвращает косинус \"а\" в радианах;\n",
    "- tan(a): Возвращает тангенс \"а\" в радианах;\n",
    "- asin(a): Возвращает инвертированный синус. Аналогичным образом работают \"atan\" и \"acos\";\n",
    "- degrees(a): Конвертирует угол \"a\" из радиан в градусы;\n",
    "- radians(a): Конвертирует угол \"a\" из градусов в радианы."
   ]
  },
  {
   "cell_type": "code",
   "execution_count": 26,
   "metadata": {},
   "outputs": [
    {
     "name": "stdout",
     "output_type": "stream",
     "text": [
      "Значение угла: 1.5707963267948966\n",
      "sin(x) равен: 1.0\n",
      "tan(x) равен: 1.633123935319537e+16\n",
      "cos(x) равен: 6.123233995736766e-17\n"
     ]
    }
   ],
   "source": [
    "angle_In_Degrees = 90\n",
    "angle_In_Radians = math.radians(angle_In_Degrees)\n",
    " \n",
    "print('Значение угла:', angle_In_Radians)\n",
    "print('sin(x) равен:', math.sin(angle_In_Radians))\n",
    "print('tan(x) равен:', math.tan(angle_In_Radians))\n",
    "print('cos(x) равен:', math.cos(angle_In_Radians))"
   ]
  },
  {
   "cell_type": "markdown",
   "metadata": {},
   "source": [
    "### Список основных функций модуля \n",
    "\n",
    "math.ceil(X) – округление до ближайшего большего числа.\n",
    "\n",
    "math.copysign(X, Y) - возвращает число, имеющее модуль такой же, как и у числа X, а знак - как у числа Y.\n",
    "\n",
    "math.fabs(X) - модуль X.\n",
    "\n",
    "math.factorial(X) - факториал числа X.\n",
    "\n",
    "math.floor(X) - округление вниз.\n",
    "\n",
    "math.fmod(X, Y) - остаток от деления X на Y.\n",
    "\n",
    "math.frexp(X) - возвращает мантиссу и экспоненту числа.\n",
    "\n",
    "math.ldexp(X, I) - X * 2i. Функция, обратная функции math.frexp().\n",
    "\n",
    "math.fsum(последовательность) - сумма всех членов последовательности. Эквивалент встроенной функции sum(), но math.fsum() более точна для чисел с плавающей точкой.\n",
    "\n",
    "math.isfinite(X) - является ли X числом.\n",
    "\n",
    "math.isinf(X) - является ли X бесконечностью.\n",
    "\n",
    "math.isnan(X) - является ли X NaN (Not a Number - не число).\n",
    "\n",
    "math.modf(X) - возвращает дробную и целую часть числа X. Оба числа имеют тот же знак, что и X.\n",
    "\n",
    "math.trunc(X) - усекает значение X до целого.\n",
    "\n",
    "math.exp(X) - eX.\n",
    "\n",
    "math.expm1(X) - eX - 1. При X → 0 точнее, чем math.exp(X)-1.\n",
    "\n",
    "math.log(X, [base]) - логарифм X по основанию base. Если base не указан, вычисляется натуральный логарифм.\n",
    "\n",
    "math.log1p(X) - натуральный логарифм (1 + X). При X → 0 точнее, чем math.log(1+X).\n",
    "\n",
    "math.log10(X) - логарифм X по основанию 10.\n",
    "\n",
    "math.log2(X) - логарифм X по основанию 2. Новое в Python 3.3.\n",
    "\n",
    "math.pow(X, Y) - XY.\n",
    "\n",
    "math.sqrt(X) - квадратный корень из X.\n",
    "\n",
    "math.acos(X) - арккосинус X. В радианах.\n",
    "\n",
    "math.asin(X) - арксинус X. В радианах.\n",
    "\n",
    "math.atan(X) - арктангенс X. В радианах.\n",
    "\n",
    "math.atan2(Y, X) - арктангенс Y/X. В радианах. С учетом четверти, в которой находится точка (X, Y).\n",
    "\n",
    "math.cos(X) - косинус X (X указывается в радианах).\n",
    "\n",
    "math.sin(X) - синус X (X указывается в радианах).\n",
    "\n",
    "math.tan(X) - тангенс X (X указывается в радианах).\n",
    "\n",
    "math.hypot(X, Y) - вычисляет гипотенузу треугольника с катетами X и Y (math.sqrt(x * x + y * y)).\n",
    "\n",
    "math.degrees(X) - конвертирует радианы в градусы.\n",
    "\n",
    "math.radians(X) - конвертирует градусы в радианы.\n",
    "\n",
    "math.cosh(X) - вычисляет гиперболический косинус.\n",
    "\n",
    "math.sinh(X) - вычисляет гиперболический синус.\n",
    "\n",
    "math.tanh(X) - вычисляет гиперболический тангенс.\n",
    "\n",
    "math.acosh(X) - вычисляет обратный гиперболический косинус.\n",
    "\n",
    "math.asinh(X) - вычисляет обратный гиперболический синус.\n",
    "\n",
    "math.atanh(X) - вычисляет обратный гиперболический тангенс.\n",
    "\n",
    "math.erf(X) - функция ошибок.\n",
    "\n",
    "math.erfc(X) - дополнительная функция ошибок (1 - math.erf(X)).\n",
    "\n",
    "math.gamma(X) - гамма-функция X.\n",
    "\n",
    "math.lgamma(X) - натуральный логарифм гамма-функции X.\n",
    "\n",
    "math.pi - pi = 3,1415926...\n",
    "\n",
    "math.e - e = 2,718281..."
   ]
  },
  {
   "cell_type": "markdown",
   "metadata": {},
   "source": [
    "# Задача:\n",
    "\n",
    "Додо Пицца предлагает:\n",
    "одну пиццу диаметром 25 см за 245 р.\n",
    "одну пиццу диаметром 35 см за 785 р.\n",
    "набор из трех пицц диаметром 30 см за 999 р.\n",
    "\n",
    "Что взять выгоднее(по соотношению цена за кв.см)? \n",
    "\n",
    "Какие функции модуля math нужно применить,чтобы посчитать это?"
   ]
  }
 ],
 "metadata": {
  "kernelspec": {
   "display_name": "Python 3",
   "language": "python",
   "name": "python3"
  },
  "language_info": {
   "codemirror_mode": {
    "name": "ipython",
    "version": 3
   },
   "file_extension": ".py",
   "mimetype": "text/x-python",
   "name": "python",
   "nbconvert_exporter": "python",
   "pygments_lexer": "ipython3",
   "version": "3.8.3"
  }
 },
 "nbformat": 4,
 "nbformat_minor": 4
}
